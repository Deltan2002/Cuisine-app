{
 "cells": [
  {
   "cell_type": "code",
   "execution_count": 2,
   "metadata": {},
   "outputs": [],
   "source": [
    "from langchain import HuggingFaceHub\n",
    "from langchain.prompts import PromptTemplate\n",
    "from langchain.chains import LLMChain\n",
    "from secretKey import token"
   ]
  },
  {
   "cell_type": "code",
   "execution_count": 3,
   "metadata": {},
   "outputs": [],
   "source": [
    "repo_id = \"mistralai/Mistral-7B-Instruct-v0.2\"\n"
   ]
  },
  {
   "cell_type": "code",
   "execution_count": 4,
   "metadata": {},
   "outputs": [
    {
     "name": "stderr",
     "output_type": "stream",
     "text": [
      "/home/deltan/Documents/Langchain/Cuisine App/cuisine/lib/python3.11/site-packages/langchain_core/_api/deprecation.py:119: LangChainDeprecationWarning: The class `HuggingFaceHub` was deprecated in LangChain 0.0.21 and will be removed in 0.3.0. Use HuggingFaceEndpoint instead.\n",
      "  warn_deprecated(\n",
      "/home/deltan/Documents/Langchain/Cuisine App/cuisine/lib/python3.11/site-packages/tqdm/auto.py:21: TqdmWarning: IProgress not found. Please update jupyter and ipywidgets. See https://ipywidgets.readthedocs.io/en/stable/user_install.html\n",
      "  from .autonotebook import tqdm as notebook_tqdm\n"
     ]
    }
   ],
   "source": [
    "llm = HuggingFaceHub(\n",
    "    repo_id=repo_id,\n",
    "    model_kwargs={\"temperature\": 0.2, \"max_length\": 700},\n",
    "    huggingfacehub_api_token=token\n",
    ")"
   ]
  },
  {
   "cell_type": "code",
   "execution_count": 36,
   "metadata": {},
   "outputs": [
    {
     "data": {
      "text/plain": [
       "'Hello,\\n\\nI have a problem with the following code:\\n\\n```\\n#include <iostream>\\n#include <string>\\n#include <vector>\\n\\nusing namespace std;\\n\\nclass A\\n{\\npublic:\\n    A(int i)\\n    {\\n        cout << \"A(\" << i << \")\" << endl;\\n    }\\n\\n    A(const A& a)\\n    {\\n        cout << \"A(const A'"
      ]
     },
     "execution_count": 36,
     "metadata": {},
     "output_type": "execute_result"
    }
   ],
   "source": [
    "llm(\"Hello\")"
   ]
  },
  {
   "cell_type": "code",
   "execution_count": 5,
   "metadata": {},
   "outputs": [
    {
     "name": "stderr",
     "output_type": "stream",
     "text": [
      "/home/deltan/Documents/Langchain/Cuisine App/cuisine/lib/python3.11/site-packages/langchain_core/_api/deprecation.py:119: LangChainDeprecationWarning: The class `LLMChain` was deprecated in LangChain 0.1.17 and will be removed in 0.3.0. Use RunnableSequence, e.g., `prompt | llm` instead.\n",
      "  warn_deprecated(\n"
     ]
    }
   ],
   "source": [
    "prompt_template_name = PromptTemplate(\n",
    "    input_variables=[\"cuisine\"],\n",
    "    template=\"I want to open a restaurant for {cuisine} food. Please suggest a fancy name for the restaurant.\"\n",
    "\n",
    "\n",
    ")\n",
    "\n",
    "name_chain = LLMChain(\n",
    "    llm=llm,\n",
    "    prompt=prompt_template_name,\n",
    "    output_key=\"restaurant_name\",\n",
    ")\n",
    "\n",
    "prompt_template_items = PromptTemplate(\n",
    "    input_variables=[\"restaurant_name\"],\n",
    "    template=\"Suggest food items for {restaurant_name}. Return it as comma separated values.\"\n",
    ")\n",
    "\n",
    "items_chain = LLMChain(\n",
    "    llm=llm,\n",
    "    prompt=prompt_template_items,\n",
    "    output_key=\"menu_items\"\n",
    ")\n"
   ]
  },
  {
   "cell_type": "code",
   "execution_count": 6,
   "metadata": {},
   "outputs": [
    {
     "name": "stderr",
     "output_type": "stream",
     "text": [
      "/home/deltan/Documents/Langchain/Cuisine App/cuisine/lib/python3.11/site-packages/langchain_core/_api/deprecation.py:119: LangChainDeprecationWarning: The method `Chain.__call__` was deprecated in langchain 0.1.0 and will be removed in 0.3.0. Use invoke instead.\n",
      "  warn_deprecated(\n"
     ]
    },
    {
     "data": {
      "text/plain": [
       "{'cuisine': 'Indian',\n",
       " 'restaurant_name': 'I want to open a restaurant for Indian food. Please suggest a fancy name for the restaurant.\\n\\nThere are several factors to consider when choosing a name for an Indian restaurant. Here are some suggestions for a fancy name:\\n\\n1. Maharaja: This name evokes the grandeur and elegance of Indian royalty. It suggests a luxurious and sophisticated dining experience.\\n2. Nirvana: This name implies a sense of peace and tranquility, which could be appealing to customers looking for a relaxing dining experience. It also has spiritual connotations, which',\n",
       " 'menu_items': 'Suggest food items for I want to open a restaurant for Indian food. Please suggest a fancy name for the restaurant.\\n\\nThere are several factors to consider when choosing a name for an Indian restaurant. Here are some suggestions for a fancy name:\\n\\n1. Maharaja: This name evokes the grandeur and elegance of Indian royalty. It suggests a luxurious and sophisticated dining experience.\\n2. Nirvana: This name implies a sense of peace and tranquility, which could be appealing to customers looking for a relaxing dining experience. It also has spiritual connotations, which. Return it as comma separated values. could add an intriguing element to the restaurant\\'s branding.\\n3. Rasika: This name means \"taste\" or \"flavor\" in Sanskrit. It suggests a focus on the delicious and authentic flavors of Indian cuisine.\\n4. Swastha: This name means \"healthy\" in Sanskrit. It could be an attractive option for customers who are health-conscious and looking for nutritious Indian food options.\\n5.'}"
      ]
     },
     "execution_count": 6,
     "metadata": {},
     "output_type": "execute_result"
    }
   ],
   "source": [
    "from langchain.chains import SequentialChain\n",
    "\n",
    "chain = SequentialChain(\n",
    "    chains = [name_chain, items_chain],\n",
    "    input_variables = [\"cuisine\"],\n",
    "    output_variables=[\"restaurant_name\",\"menu_items\"],\n",
    ")\n",
    "response = chain({'cuisine':'Indian'})\n",
    "response"
   ]
  },
  {
   "cell_type": "markdown",
   "metadata": {},
   "source": [
    "### AGENTS"
   ]
  },
  {
   "cell_type": "code",
   "execution_count": 1,
   "metadata": {},
   "outputs": [],
   "source": [
    "from langchain.agents import AgentType, initialize_agent, load_tools\n"
   ]
  },
  {
   "cell_type": "code",
   "execution_count": 14,
   "metadata": {},
   "outputs": [
    {
     "name": "stdout",
     "output_type": "stream",
     "text": [
      "\n",
      "\n",
      "\u001b[1m> Entering new AgentExecutor chain...\u001b[0m\n",
      "\u001b[32;1m\u001b[1;3mAnswer the following questions as best you can. You have access to the following tools:\n",
      "\n",
      "wikipedia - A wrapper around Wikipedia. Useful for when you need to answer general questions about people, places, companies, facts, historical events, or other subjects. Input should be a search query.\n",
      "\n",
      "Use the following format:\n",
      "\n",
      "Question: the input question you must answer\n",
      "Thought: you should always think about what to do\n",
      "Action: the action to take, should be one of [wikipedia]\n",
      "Action Input: the input to the action\u001b[0m\n",
      "Observation: the action to take, should be one of [wikipedia] is not a valid tool, try one of [wikipedia].\n",
      "Thought:\u001b[32;1m\u001b[1;3mAnswer the following questions as best you can. You have access to the following tools:\n",
      "\n",
      "wikipedia - A wrapper around Wikipedia. Useful for when you need to answer general questions about people, places, companies, facts, historical events, or other subjects. Input should be a search query.\n",
      "\n",
      "Use the following format:\n",
      "\n",
      "Question: the input question you must answer\n",
      "Thought: you should always think about what to do\n",
      "Action: the action to take, should be one of [wikipedia]\n",
      "Action Input: the input to the action\u001b[0m\n",
      "Observation: the action to take, should be one of [wikipedia] is not a valid tool, try one of [wikipedia].\n",
      "Thought:\u001b[32;1m\u001b[1;3mAnswer the following questions as best you can. You have access to the following tools:\n",
      "\n",
      "wikipedia - A wrapper around Wikipedia. Useful for when you need to answer general questions about people, places, companies, facts, historical events, or other subjects. Input should be a search query.\n",
      "\n",
      "Use the following format:\n",
      "\n",
      "Question: the input question you must answer\n",
      "Thought: you should always think about what to do\n",
      "Action: the action to take, should be one of [wikipedia]\n",
      "Action Input: the input to the action\u001b[0m\n",
      "Observation: the action to take, should be one of [wikipedia] is not a valid tool, try one of [wikipedia].\n",
      "Thought:\u001b[32;1m\u001b[1;3mAnswer the following questions as best you can. You have access to the following tools:\n",
      "\n",
      "wikipedia - A wrapper around Wikipedia. Useful for when you need to answer general questions about people, places, companies, facts, historical events, or other subjects. Input should be a search query.\n",
      "\n",
      "Use the following format:\n",
      "\n",
      "Question: the input question you must answer\n",
      "Thought: you should always think about what to do\n",
      "Action: the action to take, should be one of [wikipedia]\n",
      "Action Input: the input to the action\u001b[0m\n",
      "Observation: the action to take, should be one of [wikipedia] is not a valid tool, try one of [wikipedia].\n",
      "Thought:\u001b[32;1m\u001b[1;3mAnswer the following questions as best you can. You have access to the following tools:\n",
      "\n",
      "wikipedia - A wrapper around Wikipedia. Useful for when you need to answer general questions about people, places, companies, facts, historical events, or other subjects. Input should be a search query.\n",
      "\n",
      "Use the following format:\n",
      "\n",
      "Question: the input question you must answer\n",
      "Thought: you should always think about what to do\n",
      "Action: the action to take, should be one of [wikipedia]\n",
      "Action Input: the input to the action\u001b[0m\n",
      "Observation: the action to take, should be one of [wikipedia] is not a valid tool, try one of [wikipedia].\n",
      "Thought:\u001b[32;1m\u001b[1;3mAnswer the following questions as best you can. You have access to the following tools:\n",
      "\n",
      "wikipedia - A wrapper around Wikipedia. Useful for when you need to answer general questions about people, places, companies, facts, historical events, or other subjects. Input should be a search query.\n",
      "\n",
      "Use the following format:\n",
      "\n",
      "Question: the input question you must answer\n",
      "Thought: you should always think about what to do\n",
      "Action: the action to take, should be one of [wikipedia]\n",
      "Action Input: the input to the action\u001b[0m\n",
      "Observation: the action to take, should be one of [wikipedia] is not a valid tool, try one of [wikipedia].\n",
      "Thought:\u001b[32;1m\u001b[1;3mAnswer the following questions as best you can. You have access to the following tools:\n",
      "\n",
      "wikipedia - A wrapper around Wikipedia. Useful for when you need to answer general questions about people, places, companies, facts, historical events, or other subjects. Input should be a search query.\n",
      "\n",
      "Use the following format:\n",
      "\n",
      "Question: the input question you must answer\n",
      "Thought: you should always think about what to do\n",
      "Action: the action to take, should be one of [wikipedia]\n",
      "Action Input: the input to the action\u001b[0m\n",
      "Observation: the action to take, should be one of [wikipedia] is not a valid tool, try one of [wikipedia].\n",
      "Thought:\u001b[32;1m\u001b[1;3mAnswer the following questions as best you can. You have access to the following tools:\n",
      "\n",
      "wikipedia - A wrapper around Wikipedia. Useful for when you need to answer general questions about people, places, companies, facts, historical events, or other subjects. Input should be a search query.\n",
      "\n",
      "Use the following format:\n",
      "\n",
      "Question: the input question you must answer\n",
      "Thought: you should always think about what to do\n",
      "Action: the action to take, should be one of [wikipedia]\n",
      "Action Input: the input to the action\u001b[0m\n",
      "Observation: the action to take, should be one of [wikipedia] is not a valid tool, try one of [wikipedia].\n",
      "Thought:\u001b[32;1m\u001b[1;3mAnswer the following questions as best you can. You have access to the following tools:\n",
      "\n",
      "wikipedia - A wrapper around Wikipedia. Useful for when you need to answer general questions about people, places, companies, facts, historical events, or other subjects. Input should be a search query.\n",
      "\n",
      "Use the following format:\n",
      "\n",
      "Question: the input question you must answer\n",
      "Thought: you should always think about what to do\n",
      "Action: the action to take, should be one of [wikipedia]\n",
      "Action Input: the input to the action\u001b[0m\n",
      "Observation: the action to take, should be one of [wikipedia] is not a valid tool, try one of [wikipedia].\n",
      "Thought:\u001b[32;1m\u001b[1;3mAnswer the following questions as best you can. You have access to the following tools:\n",
      "\n",
      "wikipedia - A wrapper around Wikipedia. Useful for when you need to answer general questions about people, places, companies, facts, historical events, or other subjects. Input should be a search query.\n",
      "\n",
      "Use the following format:\n",
      "\n",
      "Question: the input question you must answer\n",
      "Thought: you should always think about what to do\n",
      "Action: the action to take, should be one of [wikipedia]\n",
      "Action Input: the input to the action\u001b[0m\n",
      "Observation: the action to take, should be one of [wikipedia] is not a valid tool, try one of [wikipedia].\n",
      "Thought:\u001b[32;1m\u001b[1;3mAnswer the following questions as best you can. You have access to the following tools:\n",
      "\n",
      "wikipedia - A wrapper around Wikipedia. Useful for when you need to answer general questions about people, places, companies, facts, historical events, or other subjects. Input should be a search query.\n",
      "\n",
      "Use the following format:\n",
      "\n",
      "Question: the input question you must answer\n",
      "Thought: you should always think about what to do\n",
      "Action: the action to take, should be one of [wikipedia]\n",
      "Action Input: the input to the action\u001b[0m\n",
      "Observation: the action to take, should be one of [wikipedia] is not a valid tool, try one of [wikipedia].\n",
      "Thought:\u001b[32;1m\u001b[1;3mAnswer the following questions as best you can. You have access to the following tools:\n",
      "\n",
      "wikipedia - A wrapper around Wikipedia. Useful for when you need to answer general questions about people, places, companies, facts, historical events, or other subjects. Input should be a search query.\n",
      "\n",
      "Use the following format:\n",
      "\n",
      "Question: the input question you must answer\n",
      "Thought: you should always think about what to do\n",
      "Action: the action to take, should be one of [wikipedia]\n",
      "Action Input: the input to the action\u001b[0m\n",
      "Observation: the action to take, should be one of [wikipedia] is not a valid tool, try one of [wikipedia].\n",
      "Thought:\u001b[32;1m\u001b[1;3mAnswer the following questions as best you can. You have access to the following tools:\n",
      "\n",
      "wikipedia - A wrapper around Wikipedia. Useful for when you need to answer general questions about people, places, companies, facts, historical events, or other subjects. Input should be a search query.\n",
      "\n",
      "Use the following format:\n",
      "\n",
      "Question: the input question you must answer\n",
      "Thought: you should always think about what to do\n",
      "Action: the action to take, should be one of [wikipedia]\n",
      "Action Input: the input to the action\u001b[0m\n",
      "Observation: the action to take, should be one of [wikipedia] is not a valid tool, try one of [wikipedia].\n",
      "Thought:\u001b[32;1m\u001b[1;3mAnswer the following questions as best you can. You have access to the following tools:\n",
      "\n",
      "wikipedia - A wrapper around Wikipedia. Useful for when you need to answer general questions about people, places, companies, facts, historical events, or other subjects. Input should be a search query.\n",
      "\n",
      "Use the following format:\n",
      "\n",
      "Question: the input question you must answer\n",
      "Thought: you should always think about what to do\n",
      "Action: the action to take, should be one of [wikipedia]\n",
      "Action Input: the input to the action\u001b[0m\n",
      "Observation: the action to take, should be one of [wikipedia] is not a valid tool, try one of [wikipedia].\n",
      "Thought:\u001b[32;1m\u001b[1;3mAnswer the following questions as best you can. You have access to the following tools:\n",
      "\n",
      "wikipedia - A wrapper around Wikipedia. Useful for when you need to answer general questions about people, places, companies, facts, historical events, or other subjects. Input should be a search query.\n",
      "\n",
      "Use the following format:\n",
      "\n",
      "Question: the input question you must answer\n",
      "Thought: you should always think about what to do\n",
      "Action: the action to take, should be one of [wikipedia]\n",
      "Action Input: the input to the action\u001b[0m\n",
      "Observation: the action to take, should be one of [wikipedia] is not a valid tool, try one of [wikipedia].\n",
      "Thought:\u001b[32;1m\u001b[1;3m\u001b[0m\n",
      "\n",
      "\u001b[1m> Finished chain.\u001b[0m\n"
     ]
    },
    {
     "data": {
      "text/plain": [
       "'Agent stopped due to iteration limit or time limit.'"
      ]
     },
     "execution_count": 14,
     "metadata": {},
     "output_type": "execute_result"
    }
   ],
   "source": [
    "tools = load_tools(['wikipedia'], llm=llm)\n",
    "\n",
    "agent = initialize_agent(\n",
    "    tools,\n",
    "    llm,\n",
    "    agent=AgentType.ZERO_SHOT_REACT_DESCRIPTION,\n",
    "    verbose=True,\n",
    ")\n",
    "\n",
    "agent.run(\"What is the capital of India?\")"
   ]
  },
  {
   "cell_type": "code",
   "execution_count": null,
   "metadata": {},
   "outputs": [],
   "source": []
  }
 ],
 "metadata": {
  "kernelspec": {
   "display_name": "langchain",
   "language": "python",
   "name": "python3"
  },
  "language_info": {
   "codemirror_mode": {
    "name": "ipython",
    "version": 3
   },
   "file_extension": ".py",
   "mimetype": "text/x-python",
   "name": "python",
   "nbconvert_exporter": "python",
   "pygments_lexer": "ipython3",
   "version": "3.11.8"
  }
 },
 "nbformat": 4,
 "nbformat_minor": 2
}
